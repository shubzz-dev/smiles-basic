{
 "cells": [
  {
   "cell_type": "code",
   "id": "initial_id",
   "metadata": {
    "collapsed": true
   },
   "source": "!pip install rdkit-pypi\n",
   "outputs": [],
   "execution_count": null
  },
  {
   "metadata": {
    "ExecuteTime": {
     "end_time": "2025-07-10T18:42:37.971492Z",
     "start_time": "2025-07-10T18:42:37.960187Z"
    }
   },
   "cell_type": "code",
   "source": [
    "from rdkit import Chem\n",
    "from rdkit.Chem import Draw,Descriptors,rdmolops\n",
    "from IPython.display import display\n"
   ],
   "id": "2a1fbe9935f8a4b",
   "outputs": [],
   "execution_count": 12
  },
  {
   "metadata": {
    "ExecuteTime": {
     "end_time": "2025-07-10T18:41:15.996720Z",
     "start_time": "2025-07-10T18:41:11.503773Z"
    }
   },
   "cell_type": "code",
   "source": [
    "smiles=input(\"enter a smiles string pls\")\n",
    "mol=Chem.MolFromSmiles(smiles)\n",
    "display(Draw.MolToImage(mol))"
   ],
   "id": "88ac240c2d345045",
   "outputs": [
    {
     "data": {
      "text/plain": [
       "<PIL.PngImagePlugin.PngImageFile image mode=RGB size=300x300>"
      ],
      "image/png": "[encoded data removed]",
      "image/jpeg": "[encoded data removed]"
     },
     "metadata": {},
     "output_type": "display_data"
    }
   ],
   "execution_count": 10
  },
  {
   "metadata": {},
   "cell_type": "markdown",
   "source": "## MOLECULAR DETAILS:",
   "id": "72554e823c74afb3"
  },
  {
   "metadata": {
    "ExecuteTime": {
     "end_time": "2025-07-10T18:43:48.857517Z",
     "start_time": "2025-07-10T18:43:48.825966Z"
    }
   },
   "cell_type": "code",
   "source": [
    "\n",
    "# Show molecular info\n",
    "print(\"Molecular Formula:\", Chem.rdMolDescriptors.CalcMolFormula(mol))\n",
    "print(\"Molecular Weight:\", Descriptors.MolWt(mol))\n",
    "print(\"Num of Atoms:\", mol.GetNumAtoms())\n",
    "print(\"Num of Rings:\", Chem.rdMolDescriptors.CalcNumAromaticRings(mol))\n",
    "print(\"Is Aromatic:\", any([atom.GetIsAromatic() for atom in mol.GetAtoms()]))\n"
   ],
   "id": "9c8a9c7352a22b72",
   "outputs": [
    {
     "name": "stdout",
     "output_type": "stream",
     "text": [
      "Molecular Formula: C2H6\n",
      "Molecular Weight: 30.07\n",
      "Num of Atoms: 2\n",
      "Num of Rings: 0\n",
      "Is Aromatic: False\n"
     ]
    }
   ],
   "execution_count": 16
  }
 ],
 "metadata": {
  "kernelspec": {
   "display_name": "Python 3",
   "language": "python",
   "name": "python3"
  },
  "language_info": {
   "codemirror_mode": {
    "name": "ipython",
    "version": 2
   },
   "file_extension": ".py",
   "mimetype": "text/x-python",
   "name": "python",
   "nbconvert_exporter": "python",
   "pygments_lexer": "ipython2",
   "version": "2.7.6"
  }
 },
 "nbformat": 4,
 "nbformat_minor": 5
}
